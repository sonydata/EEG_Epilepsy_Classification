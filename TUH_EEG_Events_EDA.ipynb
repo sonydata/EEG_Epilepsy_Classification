{
 "cells": [
  {
   "cell_type": "markdown",
   "metadata": {},
   "source": [
    "# TUH EEG Events Corpus EDA"
   ]
  },
  {
   "cell_type": "markdown",
   "metadata": {},
   "source": [
    "### Install Required Libraries"
   ]
  },
  {
   "cell_type": "code",
   "execution_count": 1,
   "metadata": {},
   "outputs": [
    {
     "name": "stdout",
     "output_type": "stream",
     "text": [
      "Collecting pyedflib\n",
      "  Using cached pyedflib-0.1.40.tar.gz (2.3 MB)\n",
      "  Installing build dependencies ... \u001b[?25ldone\n",
      "\u001b[?25h  Getting requirements to build wheel ... \u001b[?25ldone\n",
      "\u001b[?25h  Preparing metadata (pyproject.toml) ... \u001b[?25ldone\n",
      "\u001b[?25hCollecting mne\n",
      "  Downloading mne-1.9.0-py3-none-any.whl.metadata (20 kB)\n",
      "Collecting numpy>=1.9.1 (from pyedflib)\n",
      "  Using cached numpy-2.2.4-cp313-cp313-macosx_10_13_x86_64.whl.metadata (62 kB)\n",
      "Requirement already satisfied: decorator in ./.venv/lib/python3.13/site-packages (from mne) (5.2.1)\n",
      "Collecting jinja2 (from mne)\n",
      "  Using cached jinja2-3.1.6-py3-none-any.whl.metadata (2.9 kB)\n",
      "Collecting lazy-loader>=0.3 (from mne)\n",
      "  Downloading lazy_loader-0.4-py3-none-any.whl.metadata (7.6 kB)\n",
      "Collecting matplotlib>=3.6 (from mne)\n",
      "  Using cached matplotlib-3.10.1-cp313-cp313-macosx_10_13_x86_64.whl.metadata (11 kB)\n",
      "Requirement already satisfied: packaging in ./.venv/lib/python3.13/site-packages (from mne) (24.2)\n",
      "Collecting pooch>=1.5 (from mne)\n",
      "  Downloading pooch-1.8.2-py3-none-any.whl.metadata (10 kB)\n",
      "Collecting scipy>=1.9 (from mne)\n",
      "  Using cached scipy-1.15.2-cp313-cp313-macosx_10_13_x86_64.whl.metadata (61 kB)\n",
      "Collecting tqdm (from mne)\n",
      "  Downloading tqdm-4.67.1-py3-none-any.whl.metadata (57 kB)\n",
      "Collecting contourpy>=1.0.1 (from matplotlib>=3.6->mne)\n",
      "  Using cached contourpy-1.3.1-cp313-cp313-macosx_10_13_x86_64.whl.metadata (5.4 kB)\n",
      "Collecting cycler>=0.10 (from matplotlib>=3.6->mne)\n",
      "  Using cached cycler-0.12.1-py3-none-any.whl.metadata (3.8 kB)\n",
      "Collecting fonttools>=4.22.0 (from matplotlib>=3.6->mne)\n",
      "  Using cached fonttools-4.56.0-cp313-cp313-macosx_10_13_x86_64.whl.metadata (101 kB)\n",
      "Collecting kiwisolver>=1.3.1 (from matplotlib>=3.6->mne)\n",
      "  Using cached kiwisolver-1.4.8-cp313-cp313-macosx_10_13_x86_64.whl.metadata (6.2 kB)\n",
      "Collecting pillow>=8 (from matplotlib>=3.6->mne)\n",
      "  Using cached pillow-11.1.0-cp313-cp313-macosx_10_13_x86_64.whl.metadata (9.1 kB)\n",
      "Collecting pyparsing>=2.3.1 (from matplotlib>=3.6->mne)\n",
      "  Downloading pyparsing-3.2.3-py3-none-any.whl.metadata (5.0 kB)\n",
      "Requirement already satisfied: python-dateutil>=2.7 in ./.venv/lib/python3.13/site-packages (from matplotlib>=3.6->mne) (2.9.0.post0)\n",
      "Requirement already satisfied: platformdirs>=2.5.0 in ./.venv/lib/python3.13/site-packages (from pooch>=1.5->mne) (4.3.7)\n",
      "Requirement already satisfied: requests>=2.19.0 in ./.venv/lib/python3.13/site-packages (from pooch>=1.5->mne) (2.32.3)\n",
      "Collecting MarkupSafe>=2.0 (from jinja2->mne)\n",
      "  Using cached MarkupSafe-3.0.2-cp313-cp313-macosx_10_13_universal2.whl.metadata (4.0 kB)\n",
      "Requirement already satisfied: six>=1.5 in ./.venv/lib/python3.13/site-packages (from python-dateutil>=2.7->matplotlib>=3.6->mne) (1.17.0)\n",
      "Requirement already satisfied: charset-normalizer<4,>=2 in ./.venv/lib/python3.13/site-packages (from requests>=2.19.0->pooch>=1.5->mne) (3.4.1)\n",
      "Requirement already satisfied: idna<4,>=2.5 in ./.venv/lib/python3.13/site-packages (from requests>=2.19.0->pooch>=1.5->mne) (3.10)\n",
      "Requirement already satisfied: urllib3<3,>=1.21.1 in ./.venv/lib/python3.13/site-packages (from requests>=2.19.0->pooch>=1.5->mne) (2.3.0)\n",
      "Requirement already satisfied: certifi>=2017.4.17 in ./.venv/lib/python3.13/site-packages (from requests>=2.19.0->pooch>=1.5->mne) (2025.1.31)\n",
      "Downloading mne-1.9.0-py3-none-any.whl (7.4 MB)\n",
      "\u001b[2K   \u001b[90m━━━━━━━━━━━━━━━━━━━━━━━━━━━━━━━━━━━━━━━━\u001b[0m \u001b[32m7.4/7.4 MB\u001b[0m \u001b[31m21.4 MB/s\u001b[0m eta \u001b[36m0:00:00\u001b[0ma \u001b[36m0:00:01\u001b[0m\n",
      "\u001b[?25hDownloading lazy_loader-0.4-py3-none-any.whl (12 kB)\n",
      "Using cached matplotlib-3.10.1-cp313-cp313-macosx_10_13_x86_64.whl (8.2 MB)\n",
      "Using cached numpy-2.2.4-cp313-cp313-macosx_10_13_x86_64.whl (20.9 MB)\n",
      "Downloading pooch-1.8.2-py3-none-any.whl (64 kB)\n",
      "Using cached scipy-1.15.2-cp313-cp313-macosx_10_13_x86_64.whl (38.7 MB)\n",
      "Using cached jinja2-3.1.6-py3-none-any.whl (134 kB)\n",
      "Downloading tqdm-4.67.1-py3-none-any.whl (78 kB)\n",
      "Using cached contourpy-1.3.1-cp313-cp313-macosx_10_13_x86_64.whl (271 kB)\n",
      "Using cached cycler-0.12.1-py3-none-any.whl (8.3 kB)\n",
      "Using cached fonttools-4.56.0-cp313-cp313-macosx_10_13_x86_64.whl (2.3 MB)\n",
      "Using cached kiwisolver-1.4.8-cp313-cp313-macosx_10_13_x86_64.whl (66 kB)\n",
      "Using cached MarkupSafe-3.0.2-cp313-cp313-macosx_10_13_universal2.whl (14 kB)\n",
      "Using cached pillow-11.1.0-cp313-cp313-macosx_10_13_x86_64.whl (3.2 MB)\n",
      "Downloading pyparsing-3.2.3-py3-none-any.whl (111 kB)\n",
      "Building wheels for collected packages: pyedflib\n",
      "  Building wheel for pyedflib (pyproject.toml) ... \u001b[?25ldone\n",
      "\u001b[?25h  Created wheel for pyedflib: filename=pyedflib-0.1.40-cp313-cp313-macosx_10_13_universal2.whl size=2446088 sha256=debec0d85015c0598e97a25aa1e09583904ff7b9532790a8a64160f52f7bcacd\n",
      "  Stored in directory: /Users/soniahalhol/Library/Caches/pip/wheels/ef/88/49/e58dfe690999d44d611e76c9c5759132d1906c1272fbfe9fd3\n",
      "Successfully built pyedflib\n",
      "Installing collected packages: tqdm, pyparsing, pillow, numpy, MarkupSafe, lazy-loader, kiwisolver, fonttools, cycler, scipy, pyedflib, pooch, jinja2, contourpy, matplotlib, mne\n",
      "Successfully installed MarkupSafe-3.0.2 contourpy-1.3.1 cycler-0.12.1 fonttools-4.56.0 jinja2-3.1.6 kiwisolver-1.4.8 lazy-loader-0.4 matplotlib-3.10.1 mne-1.9.0 numpy-2.2.4 pillow-11.1.0 pooch-1.8.2 pyedflib-0.1.40 pyparsing-3.2.3 scipy-1.15.2 tqdm-4.67.1\n",
      "Note: you may need to restart the kernel to use updated packages.\n"
     ]
    }
   ],
   "source": [
    "pip install pyedflib mne"
   ]
  },
  {
   "cell_type": "markdown",
   "metadata": {},
   "source": [
    "### Read an EDF file"
   ]
  },
  {
   "cell_type": "code",
   "execution_count": 2,
   "metadata": {},
   "outputs": [
    {
     "name": "stdout",
     "output_type": "stream",
     "text": [
      "Number of channels: 31\n",
      "Labels: ['EEG FP1-REF', 'EEG FP2-REF', 'EEG F3-REF', 'EEG F4-REF', 'EEG C3-REF', 'EEG C4-REF', 'EEG P3-REF', 'EEG P4-REF', 'EEG O1-REF', 'EEG O2-REF', 'EEG F7-REF', 'EEG F8-REF', 'EEG T3-REF', 'EEG T4-REF', 'EEG T5-REF', 'EEG T6-REF', 'EEG T1-REF', 'EEG T2-REF', 'EEG FZ-REF', 'EEG CZ-REF', 'EEG PZ-REF', 'EEG EKG1-REF', 'EEG C3P-REF', 'EEG C4P-REF', 'EEG SP1-REF', 'EEG SP2-REF', 'EMG-REF', 'EEG A1-REF', 'EEG A2-REF', 'EEG 31-REF', 'EEG 32-REF']\n"
     ]
    }
   ],
   "source": [
    "import pyedflib\n",
    "import numpy as np\n",
    "\n",
    "# Load the EDF file\n",
    "file_path = \"edf/train/aaaaaadg/aaaaaadg_00000002.edf\"\n",
    "edf_reader = pyedflib.EdfReader(file_path)\n",
    "\n",
    "n_channels = edf_reader.signals_in_file\n",
    "signal_labels = edf_reader.getSignalLabels()\n",
    "signal_freqs = edf_reader.getSampleFrequencies()\n",
    "\n",
    "print(f\"Number of channels: {n_channels}\")\n",
    "print(\"Labels:\", signal_labels)\n"
   ]
  },
  {
   "cell_type": "markdown",
   "metadata": {},
   "source": [
    "### Access Signal Data"
   ]
  },
  {
   "cell_type": "code",
   "execution_count": 3,
   "metadata": {},
   "outputs": [
    {
     "name": "stdout",
     "output_type": "stream",
     "text": [
      "File duration: 300.00 seconds\n"
     ]
    },
    {
     "data": {
      "image/png": "[encoded data removed]",
      "text/plain": [
       "<Figure size 640x480 with 1 Axes>"
      ]
     },
     "metadata": {},
     "output_type": "display_data"
    }
   ],
   "source": [
    "# Here first 10 seconds from channel 0\n",
    "\n",
    "# Get duration (in seconds)\n",
    "duration = edf_reader.getFileDuration()\n",
    "print(f\"File duration: {duration:.2f} seconds\")\n",
    "\n",
    "# Read signal from a specific channel\n",
    "channel_idx = 0 \n",
    "signal = edf_reader.readSignal(channel_idx)\n",
    "\n",
    "# Optionally, get signal time axis\n",
    "fs = edf_reader.getSampleFrequency(channel_idx)\n",
    "time = np.linspace(0, len(signal) / fs, len(signal))\n",
    "\n",
    "# Plot\n",
    "import matplotlib.pyplot as plt\n",
    "plt.plot(time, signal)\n",
    "plt.title(f\"Channel: {signal_labels[channel_idx]}\")\n",
    "plt.xlabel(\"Time (s)\")\n",
    "plt.ylabel(\"Amplitude (uV)\")\n",
    "plt.show()\n"
   ]
  },
  {
   "cell_type": "markdown",
   "metadata": {},
   "source": [
    "### Read label files (.lab)"
   ]
  },
  {
   "cell_type": "code",
   "execution_count": 5,
   "metadata": {},
   "outputs": [
    {
     "name": "stdout",
     "output_type": "stream",
     "text": [
      "[(27150000.0, 27250000.0, 'artf'), (27250000.0, 27350000.0, 'artf'), (27350000.0, 27450000.0, 'artf'), (27450000.0, 27550000.0, 'artf'), (27550000.0, 27650000.0, 'artf')]\n"
     ]
    }
   ],
   "source": [
    "def read_lab_file(path):\n",
    "    with open(path, \"r\") as f:\n",
    "        lines = f.readlines()\n",
    "    annotations = []\n",
    "    for line in lines:\n",
    "        parts = line.strip().split()\n",
    "        if len(parts) == 3:\n",
    "            start, end, label = float(parts[0]), float(parts[1]), parts[2].lower()\n",
    "            annotations.append((start, end, label))\n",
    "    return annotations\n",
    "\n",
    "# Example\n",
    "lab_path = \"edf/train/aaaaaadg/aaaaaadg_00000002_ch000.lab\"\n",
    "annotations = read_lab_file(lab_path)\n",
    "print(annotations[:5])\n"
   ]
  }
 ],
 "metadata": {
  "kernelspec": {
   "display_name": ".venv",
   "language": "python",
   "name": "python3"
  },
  "language_info": {
   "codemirror_mode": {
    "name": "ipython",
    "version": 3
   },
   "file_extension": ".py",
   "mimetype": "text/x-python",
   "name": "python",
   "nbconvert_exporter": "python",
   "pygments_lexer": "ipython3",
   "version": "3.13.1"
  }
 },
 "nbformat": 4,
 "nbformat_minor": 2
}
